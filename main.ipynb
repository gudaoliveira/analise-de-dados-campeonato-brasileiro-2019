{
 "cells": [
  {
   "cell_type": "markdown",
   "metadata": {},
   "source": [
    "## Será que, **em geral**, times com técnicos mais longevos ficam em uma posição melhor na tabela, no fim do campeonato?\n",
    "\n",
    "Para os treinadores, quanto maior a quantidade de jogos no mesmo time, melhor a colocação do time no campeonato?\n"
   ]
  },
  {
   "cell_type": "markdown",
   "metadata": {},
   "source": [
    "Linhas = Jogos - 10\n",
    "<br>\n",
    "Colunas = Rodadas - 38"
   ]
  },
  {
   "cell_type": "markdown",
   "metadata": {},
   "source": [
    "20 times por campeonato\n",
    "<br>\n",
    "Cada time joga com os outros 19\n",
    "<br>\n",
    "38 rodadas ao total"
   ]
  },
  {
   "cell_type": "code",
   "execution_count": 16,
   "metadata": {},
   "outputs": [],
   "source": [
    "# Para cada um dos jogos:\n",
    "#   limpar os dados:\n",
    "#       placar\n",
    "#       clubes\n",
    "#       treinadores\n",
    "\n",
    "# Para cada um dos times:\n",
    "#   treinadores\n",
    "#   qtde de partidas que o time pontou \n"
   ]
  },
  {
   "cell_type": "code",
   "execution_count": 17,
   "metadata": {},
   "outputs": [],
   "source": [
    "# Primeiro índice: coluna\n",
    "# Segundo índice: linha\n",
    "# Terceiro índice: acessando os dados da célula\n",
    "\n",
    "# dados['Rodada (38)']['Jogo - (10)']['Técnicos']"
   ]
  },
  {
   "cell_type": "code",
   "execution_count": null,
   "metadata": {},
   "outputs": [],
   "source": [
    "import pandas as pd\n",
    "\n",
    "dados = pd.read_json('brasileirao-2019.json')\n",
    "\n",
    "dados"
   ]
  },
  {
   "cell_type": "code",
   "execution_count": 68,
   "metadata": {},
   "outputs": [
    {
     "data": {
      "text/plain": [
       "'São Paulo'"
      ]
     },
     "metadata": {},
     "output_type": "display_data"
    },
    {
     "data": {
      "text/plain": [
       "'A. Stival'"
      ]
     },
     "metadata": {},
     "output_type": "display_data"
    }
   ],
   "source": [
    "# ['Rodada (38)']['Jogo - (10)']\n",
    "nova_tabela = []\n",
    "dict_info = {\n",
    "    \n",
    "}\n",
    "\n",
    "for rodada in dados: #1 a 38\n",
    "    for jogo in range(len(dados[rodada])): #0 a 9\n",
    "        time_casa = dados[rodada][jogo]['clubs']['home']\n",
    "        coach_casa = dados[rodada][jogo]['coach']['home']\n",
    "\n",
    "    nova_tabela.append(linha_time_casa)\n",
    "    linha_time_casa = []\n",
    "        \n",
    "display(nova_tabela[0][0])\n",
    "display(dados[1][0]['coach']['home'])\n",
    "\n",
    "\n",
    "\n"
   ]
  },
  {
   "cell_type": "code",
   "execution_count": 21,
   "metadata": {},
   "outputs": [
    {
     "data": {
      "text/plain": [
       "0    {'clubs': {'home': 'São Paulo', 'away': 'Botaf...\n",
       "1    {'clubs': {'home': 'Atlético-MG', 'away': 'Ava...\n",
       "2    {'clubs': {'home': 'Chapecoense', 'away': 'Int...\n",
       "3    {'clubs': {'home': 'Flamengo', 'away': 'Cruzei...\n",
       "4    {'clubs': {'home': 'Grêmio', 'away': 'Santos'}...\n",
       "5    {'clubs': {'home': 'Bahia', 'away': 'Corinthia...\n",
       "6    {'clubs': {'home': 'Athletico-PR', 'away': 'Va...\n",
       "7    {'clubs': {'home': 'Ceará SC', 'away': 'CSA'},...\n",
       "8    {'clubs': {'home': 'Palmeiras', 'away': 'Forta...\n",
       "9    {'clubs': {'home': 'Fluminense', 'away': 'Goiá...\n",
       "Name: 1, dtype: object"
      ]
     },
     "execution_count": 21,
     "metadata": {},
     "output_type": "execute_result"
    }
   ],
   "source": [
    "dados[rodada]"
   ]
  }
 ],
 "metadata": {
  "kernelspec": {
   "display_name": "Python 3",
   "language": "python",
   "name": "python3"
  },
  "language_info": {
   "codemirror_mode": {
    "name": "ipython",
    "version": 3
   },
   "file_extension": ".py",
   "mimetype": "text/x-python",
   "name": "python",
   "nbconvert_exporter": "python",
   "pygments_lexer": "ipython3",
   "version": "3.11.5"
  }
 },
 "nbformat": 4,
 "nbformat_minor": 2
}
