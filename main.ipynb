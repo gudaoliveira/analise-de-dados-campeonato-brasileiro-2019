{
 "cells": [
  {
   "cell_type": "markdown",
   "metadata": {},
   "source": [
    "## Será que, **em geral**, times com técnicos mais longevos ficam em uma posição melhor na tabela, no fim do campeonato?\n",
    "\n",
    "Para os treinadores, quanto maior a quantidade de jogos no mesmo time, melhor a colocação do time no campeonato?\n"
   ]
  },
  {
   "cell_type": "markdown",
   "metadata": {},
   "source": [
    "Linhas = Jogos - 10\n",
    "<br>\n",
    "Colunas = Rodadas - 38"
   ]
  },
  {
   "cell_type": "markdown",
   "metadata": {},
   "source": [
    "20 times por campeonato\n",
    "<br>\n",
    "Cada time joga com os outros 19\n",
    "<br>\n",
    "38 rodadas ao total"
   ]
  },
  {
   "cell_type": "code",
   "execution_count": null,
   "metadata": {},
   "outputs": [],
   "source": [
    "# Para cada um dos jogos:\n",
    "#   limpar os dados:\n",
    "#       placar\n",
    "#       clubes\n",
    "#       treinadores\n",
    "\n",
    "# Para cada um dos times:\n",
    "#   treinadores\n",
    "#   qtde de partidas que o time pontou \n"
   ]
  },
  {
   "cell_type": "code",
   "execution_count": null,
   "metadata": {},
   "outputs": [],
   "source": [
    "# Primeiro índice: coluna\n",
    "# Segundo índice: linha\n",
    "# Terceiro índice: acessando os dados da célula\n",
    "\n",
    "# dados['Rodada (38)']['Jogo (10)']['Técnicos']"
   ]
  },
  {
   "cell_type": "code",
   "execution_count": null,
   "metadata": {},
   "outputs": [],
   "source": [
    "# Precisamos saber\n",
    "#   Qual o técnico mais longevo (mais jogos no mesmo time)\n",
    "#       Qual o time\n",
    "#       Quanto tempo ele ficou\n",
    "\n",
    "#   Classificação do time\n"
   ]
  },
  {
   "cell_type": "code",
   "execution_count": null,
   "metadata": {},
   "outputs": [],
   "source": [
    "import pandas as pd\n",
    "\n",
    "dados = pd.read_json('brasileirao-2019.json')\n",
    "\n",
    "dados"
   ]
  },
  {
   "cell_type": "code",
   "execution_count": null,
   "metadata": {},
   "outputs": [],
   "source": [
    "# Precisamos saber\n",
    "#   Qual o técnico mais longevo (mais jogos no mesmo time)\n",
    "#       Qual o time\n",
    "#       Quanto tempo ele ficou\n",
    "\n",
    "# Lista com o nome de todos os técnicos\n",
    "lista_coach = []\n",
    "\n",
    "for rodada in dados: #1 ao 38\n",
    "    for jogo in range(len(dados[rodada])): #1 ao 10\n",
    "        lista_coach.append(dados[rodada][jogo]['coach']['home'])\n",
    "        lista_coach.append(dados[rodada][jogo]['coach']['away'])\n",
    "\n",
    "lista_coach = list(set(lista_coach))"
   ]
  },
  {
   "cell_type": "code",
   "execution_count": null,
   "metadata": {},
   "outputs": [],
   "source": [
    "# Lista com o nome de todos os times\n",
    "lista_times = []\n",
    "\n",
    "for rodada in dados: #1 ao 38\n",
    "    for jogo in range(len(dados[rodada])): #1 ao 10\n",
    "        lista_times.append(dados[rodada][jogo]['clubs']['home'])\n",
    "        lista_times.append(dados[rodada][jogo]['clubs']['away'])\n",
    "\n",
    "lista_times = list(set(lista_times))"
   ]
  },
  {
   "cell_type": "code",
   "execution_count": null,
   "metadata": {},
   "outputs": [],
   "source": [
    "# Primeiro índice: coluna\n",
    "# Segundo índice: linha\n",
    "# Terceiro índice: acessando os dados da célula\n",
    "\n",
    "# dados['Rodada (38)']['Jogo (10)']['Técnicos']\n",
    "\n",
    "partidas = {}\n",
    "\n",
    "for coach in lista_coach:\n",
    "    for time in lista_times:\n",
    "        partidas[time] = {coach : 0 for coach in lista_coach}"
   ]
  },
  {
   "cell_type": "code",
   "execution_count": null,
   "metadata": {},
   "outputs": [],
   "source": [
    "for coach in lista_coach:\n",
    "    for time in lista_times:\n",
    "        partidas[time][coach] = 0\n",
    "\n",
    "tabela_times = {}\n",
    "\n",
    "for i in lista_times:\n",
    "    tabela_times[i] = {'Jogos':0,'PTS':0, 'VIT':0,'EMP':0,'DER':0,'GM':0,'GC':0,'SG':0}        \n",
    "    \n",
    "listavitorias = {}\n",
    "\n",
    "for rodada in dados: #1 ao 38\n",
    "    for jogo in range(len(dados[rodada])): #0 ao 9\n",
    "        time_casa = dados[rodada][jogo]['clubs']['home']\n",
    "        coach_casa = dados[rodada][jogo]['coach']['home']\n",
    "        \n",
    "        time_fora = dados[rodada][jogo]['clubs']['away']\n",
    "        coach_fora = dados[rodada][jogo]['coach']['away']\n",
    "         \n",
    "        partidas[time_casa][coach_casa] += 1\n",
    "        partidas[time_fora][coach_fora] += 1\n",
    "        \n",
    "        golcasa = int(dados[rodada][jogo][\"goals\"][\"home\"])\n",
    "        golfora = int(dados[rodada][jogo][\"goals\"][\"away\"])\n",
    "        \n",
    "        \n",
    "        if golcasa > golfora:\n",
    "            #REFERENTE AO TIME DA CASA:\n",
    "            tabela_times[time_casa][\"PTS\"] += 3\n",
    "            tabela_times[time_casa][\"VIT\"] += 1\n",
    "            tabela_times[time_casa][\"Jogos\"] += 1\n",
    "            tabela_times[time_casa][\"GM\"] += golcasa \n",
    "            tabela_times[time_casa][\"GC\"] += golfora\n",
    "            tabela_times[time_casa][\"SG\"] += golcasa-golfora\n",
    "            \n",
    "            #REFERENTE AO TIME FORA\n",
    "            tabela_times[time_fora][\"DER\"] += 1\n",
    "            tabela_times[time_fora][\"Jogos\"] += 1\n",
    "            tabela_times[time_fora][\"GM\"] += golfora \n",
    "            tabela_times[time_fora][\"GC\"] += golcasa\n",
    "            tabela_times[time_fora][\"SG\"] += golfora - golcasa\n",
    "            \n",
    "            \n",
    "        elif golcasa < golfora:\n",
    "            #REFERENTE AO TIME FORA:\n",
    "            tabela_times[time_fora][\"PTS\"] += 3\n",
    "            tabela_times[time_fora][\"VIT\"] += 1\n",
    "            tabela_times[time_fora][\"Jogos\"] += 1\n",
    "            tabela_times[time_fora][\"GM\"] += golfora\n",
    "            tabela_times[time_fora][\"GC\"] += golcasa\n",
    "            tabela_times[time_fora][\"SG\"] += golfora-golcasa\n",
    "            \n",
    "            #REFERENTE AO TIME CASA\n",
    "            tabela_times[time_casa][\"DER\"] += 1\n",
    "            tabela_times[time_casa][\"Jogos\"] += 1\n",
    "            tabela_times[time_casa][\"GM\"] += golcasa \n",
    "            tabela_times[time_casa][\"GC\"] += golfora\n",
    "            tabela_times[time_casa][\"SG\"] += golcasa - golfora\n",
    "            \n",
    "            \n",
    "        else:\n",
    "            #REFERENTE AO TIME DA CASA:\n",
    "            tabela_times[time_casa][\"PTS\"] += 1\n",
    "            tabela_times[time_casa]['EMP'] += 1\n",
    "            tabela_times[time_casa][\"Jogos\"] += 1\n",
    "            tabela_times[time_casa][\"GM\"] += golcasa \n",
    "            tabela_times[time_casa][\"GC\"] += golfora\n",
    "            tabela_times[time_casa][\"SG\"] += golcasa-golfora\n",
    "            \n",
    "            #REFERENTE AO TIME FORA\n",
    "            tabela_times[time_fora][\"PTS\"] += 1\n",
    "            tabela_times[time_fora]['EMP'] += 1\n",
    "            tabela_times[time_fora][\"Jogos\"] += 1\n",
    "            tabela_times[time_fora][\"GM\"] += golfora \n",
    "            tabela_times[time_fora][\"GC\"] += golcasa\n",
    "            tabela_times[time_fora][\"SG\"] += golfora - golcasa\n",
    "            \n",
    "tabela_times"
   ]
  },
  {
   "cell_type": "code",
   "execution_count": null,
   "metadata": {},
   "outputs": [],
   "source": [
    "tabela_times[\"Flamengo\"]"
   ]
  },
  {
   "cell_type": "code",
   "execution_count": null,
   "metadata": {},
   "outputs": [],
   "source": [
    "#Ordenar a tabela_times, criar um if dentro desse for pra satisfazer as condicoes de desampate\n",
    "#Juntar a tabela_times com a tabela dos coachs mais longevos\n",
    "\n",
    "tabela_ordenada_times = []\n",
    "for chave, valor in tabela_times.items():\n",
    "    maior_colocacao = tabela_times[chave][\"PTS\"]\n",
    "    tabela_ordenada_times.append(maior_colocacao) # 34"
   ]
  },
  {
   "cell_type": "code",
   "execution_count": null,
   "metadata": {},
   "outputs": [],
   "source": [
    "# Descobrindo quais os técnicos mais longevos\n",
    "\n",
    "mais_longevo = {}\n",
    "\n",
    "for time in lista_times:\n",
    "    partida_mais_longeva = 0\n",
    "    mais_longevo[time] = {}  \n",
    "    for coach in lista_coach:\n",
    "        if partidas[time][coach] > partida_mais_longeva:\n",
    "            partida_mais_longeva = partidas[time][coach]\n",
    "            mais_longevo[time] = {coach: partida_mais_longeva}\n",
    "mais_longevo"
   ]
  },
  {
   "cell_type": "code",
   "execution_count": 119,
   "metadata": {},
   "outputs": [
    {
     "data": {
      "text/plain": [
       "[(0, -1),\n",
       " (1, ('Flamengo', 90, 28, 6, 4, 86, 37, 49)),\n",
       " (2, ('Santos', 74, 22, 8, 8, 60, 33, 27)),\n",
       " (3, ('Palmeiras', 74, 21, 11, 6, 61, 32, 29)),\n",
       " (4, ('Grêmio', 65, 19, 8, 11, 64, 39, 25)),\n",
       " (5, ('Athletico-PR', 64, 18, 10, 10, 51, 32, 19)),\n",
       " (6, ('São Paulo', 63, 17, 12, 9, 39, 30, 9)),\n",
       " (7, ('Internacional', 57, 16, 9, 13, 44, 39, 5)),\n",
       " (8, ('Corinthians', 56, 14, 14, 10, 42, 34, 8)),\n",
       " (9, ('Fortaleza', 53, 15, 8, 15, 50, 49, 1)),\n",
       " (10, ('Goiás', 52, 15, 7, 16, 46, 64, -18)),\n",
       " (11, ('Vasco da Gama', 49, 12, 13, 13, 39, 45, -6)),\n",
       " (12, ('Bahia', 49, 12, 13, 13, 44, 43, 1)),\n",
       " (13, ('Atlético-MG', 48, 13, 9, 16, 45, 49, -4)),\n",
       " (14, ('Fluminense', 46, 12, 10, 16, 38, 46, -8)),\n",
       " (15, ('Botafogo', 43, 13, 4, 21, 31, 45, -14)),\n",
       " (16, ('Ceará SC', 39, 10, 9, 19, 36, 41, -5)),\n",
       " (17, ('Cruzeiro', 36, 7, 15, 16, 27, 46, -19)),\n",
       " (18, ('Chapecoense', 32, 7, 11, 20, 31, 52, -21)),\n",
       " (19, ('CSA', 32, 8, 8, 22, 24, 58, -34)),\n",
       " (20, ('Avaí', 20, 3, 11, 24, 18, 62, -44))]"
      ]
     },
     "execution_count": 119,
     "metadata": {},
     "output_type": "execute_result"
    }
   ],
   "source": [
    "# (time      , PTS, vit, emp, der, gm, gs, sg)\n",
    "# (São Paulo ,  38,  17,  12,   9, 39, 30,  9)\n",
    "\n",
    "tabela_times\n",
    "\n",
    "classificacao = [-1] #inicializa com -1 para ocupar o primeiro indice\n",
    "\n",
    "for time in tabela_times:\n",
    "    classificacao.append((time, tabela_times[time]['PTS'], tabela_times[time]['VIT'], tabela_times[time]['EMP'], tabela_times[time]['DER'],tabela_times[time]['GM'],tabela_times[time]['GC'],tabela_times[time]['SG'],))\n",
    "    \n",
    "# Dentro da tupla\n",
    "# 0 - Time              (nome)\n",
    "# 1 - Pontos            (PTS)\n",
    "# 2 - Vitórias          (VIT)\n",
    "# 3 - Empates           (EMP)\n",
    "# 4 - Derrotas          (DER)\n",
    "# 5 - Gols marcados     (GM)\n",
    "# 6 - Gols Sofridos     (GC)\n",
    "# 7 - Saldo de gols     (SG)\n",
    "\n",
    "for i in range(1, len(classificacao)):\n",
    "    for j in range(1, len(classificacao) - i):\n",
    "        if classificacao[j][1] < classificacao[j + 1][1]:\n",
    "            classificacao[j], classificacao[j + 1] = classificacao[j + 1], classificacao[j]\n",
    "            \n",
    "list(enumerate(classificacao))"
   ]
  },
  {
   "cell_type": "code",
   "execution_count": 125,
   "metadata": {},
   "outputs": [
    {
     "data": {
      "text/plain": [
       "[(0, -1),\n",
       " (1, ('Flamengo', 90, 28, 6, 4, 86, 37, 49)),\n",
       " (2, ('Grêmio', 65, 19, 8, 11, 64, 39, 25)),\n",
       " (3, ('Palmeiras', 74, 21, 11, 6, 61, 32, 29)),\n",
       " (4, ('Santos', 74, 22, 8, 8, 60, 33, 27)),\n",
       " (5, ('Athletico-PR', 64, 18, 10, 10, 51, 32, 19)),\n",
       " (6, ('Internacional', 57, 16, 9, 13, 44, 39, 5)),\n",
       " (7, ('Corinthians', 56, 14, 14, 10, 42, 34, 8)),\n",
       " (8, ('Fortaleza', 53, 15, 8, 15, 50, 49, 1)),\n",
       " (9, ('Goiás', 52, 15, 7, 16, 46, 64, -18)),\n",
       " (10, ('Bahia', 49, 12, 13, 13, 44, 43, 1)),\n",
       " (11, ('São Paulo', 63, 17, 12, 9, 39, 30, 9)),\n",
       " (12, ('Vasco da Gama', 49, 12, 13, 13, 39, 45, -6)),\n",
       " (13, ('Atlético-MG', 48, 13, 9, 16, 45, 49, -4)),\n",
       " (14, ('Fluminense', 46, 12, 10, 16, 38, 46, -8)),\n",
       " (15, ('Ceará SC', 39, 10, 9, 19, 36, 41, -5)),\n",
       " (16, ('Botafogo', 43, 13, 4, 21, 31, 45, -14)),\n",
       " (17, ('Cruzeiro', 36, 7, 15, 16, 27, 46, -19)),\n",
       " (18, ('Chapecoense', 32, 7, 11, 20, 31, 52, -21)),\n",
       " (19, ('CSA', 32, 8, 8, 22, 24, 58, -34)),\n",
       " (20, ('Avaí', 20, 3, 11, 24, 18, 62, -44))]"
      ]
     },
     "execution_count": 125,
     "metadata": {},
     "output_type": "execute_result"
    }
   ],
   "source": [
    "# Empates em pontuação:\n",
    "# Santos e Palmeiras        74pts (Não precisa de critério)\n",
    "# Vasco da Gama e Bahia     49pts\n",
    "# Chapecoense e CSA         32pts\n",
    "\n",
    "# Critérios de desempate (NESTA ORDEM) \n",
    "#   Maior quantidade de vitórias        indice[2]\n",
    "#   Maior saldo de gols                 indice[7]\n",
    "#   Maior quantidade de gols marcados   indice[5]\n",
    "\n",
    "# Procurar empates\n",
    "for i in range(1, len(classificacao)):\n",
    "    for j in range(1, len(classificacao) - i):\n",
    "         \n",
    "        # Verifica se a Quantidade de vitórias é igual\n",
    "        if (classificacao[j][2] == classificacao[j + 1][2]):\n",
    "            \n",
    "            # Se a quantidade do 'Saldo de gols' do item j for menor do que o próximo item\n",
    "            if classificacao[j][7] < classificacao[j + 1][7]:\n",
    "                classificacao[j], classificacao[j + 1] = classificacao[j + 1], classificacao[j]\n",
    "            \n",
    "            # Se empatar no saldo de gols, verificar gols marcados\n",
    "            elif classificacao[j][7] == classificacao[j + 1][7]:\n",
    "                \n",
    "                # Se a quantidade de Saldo de gols do item j for menor do que o próximo item\n",
    "                if classificacao[j][5] < classificacao[j + 1][5]:\n",
    "                    classificacao[j], classificacao[j + 1] = classificacao[j + 1], classificacao[j]\n",
    "            \n",
    "list(enumerate(classificacao))"
   ]
  },
  {
   "cell_type": "code",
   "execution_count": null,
   "metadata": {},
   "outputs": [],
   "source": [
    "placares = []\n",
    "\n",
    "for i in range(len(lista_times)):\n",
    "    placares.append(0)\n",
    "    \n",
    "data = {'Time': lista_times, 'Jogos':placares, 'PTS':placares, 'VIT':placares, 'EMP':placares, 'DER':placares, 'GM':placares, 'GC':placares, 'SG':placares}\n",
    "df1 = pd.DataFrame(data)\n",
    "\n",
    "for chave,valor in tabela_times.items():\n",
    "    indice = df1.index[df1['Time'] == chave].tolist()[0]\n",
    "    \n",
    "    jogos = tabela_times[chave][\"Jogos\"] \n",
    "    pontos = tabela_times[chave][\"PTS\"]  \n",
    "    vitorias = tabela_times[chave][\"VIT\"]  \n",
    "    empates = tabela_times[chave]['EMP'] \n",
    "    derrotas = tabela_times[chave][\"DER\"] \n",
    "    golsmarcados = tabela_times[chave][\"GM\"]  \n",
    "    golscontra = tabela_times[chave][\"GC\"] \n",
    "    saldodegols = tabela_times[chave][\"SG\"]\n",
    "\n",
    "    df1.loc[indice, 'PTS'] = df1.loc[indice, 'PTS'] + pontos\n",
    "    df1.loc[indice, 'VIT'] = df1.loc[indice, 'VIT'] + vitorias\n",
    "    df1.loc[indice, 'DER'] = df1.loc[indice, 'DER'] + derrotas\n",
    "    df1.loc[indice, 'EMP'] = df1.loc[indice, 'EMP'] + empates\n",
    "    df1.loc[indice, 'Jogos'] = df1.loc[indice, 'Jogos'] + jogos\n",
    "    df1.loc[indice, 'GM'] = df1.loc[indice, 'GM'] + golsmarcados\n",
    "    df1.loc[indice, 'GC'] = df1.loc[indice, 'GC'] + golscontra\n",
    "    df1.loc[indice, 'SG'] = df1.loc[indice, 'SG'] + saldodegols\n",
    "\n",
    "    \n",
    "df1 = df1.sort_values(by = ['PTS','VIT','SG', 'GM'], ascending=False)\n",
    "\n"
   ]
  },
  {
   "cell_type": "code",
   "execution_count": null,
   "metadata": {},
   "outputs": [],
   "source": [
    "df1"
   ]
  }
 ],
 "metadata": {
  "kernelspec": {
   "display_name": "Python 3 (ipykernel)",
   "language": "python",
   "name": "python3"
  },
  "language_info": {
   "codemirror_mode": {
    "name": "ipython",
    "version": 3
   },
   "file_extension": ".py",
   "mimetype": "text/x-python",
   "name": "python",
   "nbconvert_exporter": "python",
   "pygments_lexer": "ipython3",
   "version": "3.11.5"
  }
 },
 "nbformat": 4,
 "nbformat_minor": 2
}
